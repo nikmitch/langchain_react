{
 "cells": [
  {
   "cell_type": "markdown",
   "metadata": {},
   "source": [
    "# ReAct agent with Wikipedia and calculator tool access\n",
    "\n",
    "Trying to learn to make basic agents that can use tools. I found a YouTube video from June 2023 that used ReAct with Langchain to look stuff up with Wikipedia [(link)](https://www.youtube.com/watch?v=Eug2clsLtFs). However, the code used there doesn't work any more (all been deprecated) so I had to do most of this from scratch. I added in a calculator tool as well (which was a bit messy as I had to define a wrapper for the class so it would have a description attribute). Seems to work reasonably well now"
   ]
  },
  {
   "cell_type": "markdown",
   "metadata": {},
   "source": [
    "## Importing libraries and setting up llm"
   ]
  },
  {
   "cell_type": "code",
   "execution_count": 3,
   "metadata": {},
   "outputs": [
    {
     "name": "stderr",
     "output_type": "stream",
     "text": [
      "/Users/nikmitchell/miniconda3/envs/langchain_react/lib/python3.12/site-packages/langchain/chains/llm_math/base.py:175: UserWarning: Directly instantiating an LLMMathChain with an llm is deprecated. Please instantiate with llm_chain argument or using the from_llm class method.\n",
      "  warnings.warn(\n"
     ]
    },
    {
     "name": "stdout",
     "output_type": "stream",
     "text": [
      "\n",
      "\n",
      "\u001b[1m> Entering new AgentExecutor chain...\u001b[0m\n",
      "\u001b[32;1m\u001b[1;3mI need to find out which film Russell Crowe won his first Oscar for, who directed that film, and when the director was born. After gathering that information, I will then take the year of birth of the director and calculate its square root. \n",
      "\n",
      "Action: wikipedia  \n",
      "Action Input: \"Russell Crowe first Oscar film\"  \n",
      "\u001b[0m\u001b[36;1m\u001b[1;3mPage: Russell Crowe\n",
      "Summary: Russell Ira Crowe (born 7 April 1964) is a New Zealand-born actor. He was born in Wellington, spending 10 years of his childhood in Australia and residing there permanently by age 21. His work on screen has earned him various accolades, including an Academy Award, two Golden Globe Awards, and a British Academy Film Award.\n",
      "Crowe began acting in Australia and had his breakout role in the drama Romper Stomper (1992). He gained international recognition for his starring roles as a police detective in the thriller L.A. Confidential (1997) and Jeffrey Wigand in the drama The Insider (1999). Crowe gained wider stardom for playing the title role in the period film Gladiator (2000), winning the Academy Award for Best Actor. Further acclaim came for portraying mathematician John Forbes Nash Jr. in the biopic A Beautiful Mind (2001). He then starred in the war film Master and Commander: The Far Side of the World (2003), the sports drama Cinderella Man (2005), the Western 3:10 to Yuma (2007), the crime drama American Gangster (2007), the thriller State of Play (2009), and the action film Robin Hood (2010).\n",
      "Crowe has since appeared as Javert in the film adaptation of Les Misérables (2012), Jor-El in the superhero film Man of Steel (2013), Noah in the biblical drama Noah (2014), and Zeus in the Marvel Cinematic Universe film Thor: Love and Thunder (2022). In 2014, he made his directorial debut with the drama The Water Diviner, in which he also starred. He has been the co-owner of the National Rugby League (NRL) team South Sydney Rabbitohs since 2006.\n",
      "\n",
      "Page: Cameron Crowe\n",
      "Summary: Cameron Bruce Crowe (born July 13, 1957) is an American filmmaker and journalist. He has received numerous accolades including an Academy Award, BAFTA Award, and Grammy Award as well as a nomination for a Tony Award. Crowe started his career as a contributing editor and writer at Rolling Stone magazine in 1973 where he covered numerous rock bands on tour.\n",
      "Crowe's debut screenwriting effort, Fast Times at Ridgemont High (1982), grew out of a book he wrote while posing for one year undercover as a student at Clairemont High School in San Diego. Later, he wrote and directed the romance films Say Anything... (1989), Singles (1992), and Jerry Maguire (1996). Crowe directed his seminal work, the autobiographical film Almost Famous (2000), which is loosely based on his early career as a teen writer for Rolling Stone. For his screenplay, he won an Academy Award for Best Original Screenplay.\n",
      "His later films have received varying degrees of success. He directed the psychological thriller Vanilla Sky (2001), the romantic comedy Elizabethtown (2005), the family-friendly We Bought a Zoo (2011), and the romantic comedy Aloha (2015).  He has directed the music documentaries Pearl Jam Twenty (2011) and The Union (2011), produced David Crosby: Remember My Name (2019), and created the Showtime series Roadies (2016).\n",
      "Crowe has written two books, Fast Times at Ridgemont High (1981) and Conversations with Wilder (1999). He also adapted Almost Famous into a stage musical on Broadway in 2022, for which he received a Tony Award for Best Original Score nomination.\n",
      "\n",
      "Page: 55th British Academy Film Awards\n",
      "Summary: The 55th British Academy Film Awards, more commonly known as the BAFTAs, took place on 24 February 2002 at the Odeon Leicester Square in London, honouring the best national and foreign films of 2001. Presented by the British Academy of Film and Television Arts, accolades were handed out for the best feature-length film and documentaries of any nationality that were screened at British cinemas in 2001.\n",
      "The Lord of the Rings: The Fellowship of the Ring won Best Film, Best Director for Peter Jackson, Best Makeup and Hair, and Best Visual Effects. Russell Crowe won Best Actor for A Beautiful Mind, which also won Best Supporting Actress for Jennifer Connelly. Judi Dench won Best Actress for Iris and Jim Broadbent won Best Supporting Actor for Moulin Rouge!. \u001b[0m\u001b[32;1m\u001b[1;3mI have found that Russell Crowe won his first Oscar for the film \"Gladiator,\" which was directed by Ridley Scott. Now I need to find the year Ridley Scott was born.\n",
      "\n",
      "Action: wikipedia  \n",
      "Action Input: \"Ridley Scott biography\"  \n",
      "\u001b[0m\u001b[36;1m\u001b[1;3mPage: Ridley Scott\n",
      "Summary: Sir Ridley Scott  (born 30 November 1937) is an English filmmaker. He is best known for directing films in the science fiction, crime, and historical drama genres. His work is known for its atmospheric and highly concentrated visual style. He ranks among the highest-grossing directors and has received many accolades, including the BAFTA Fellowship for lifetime achievement in 2018, two Primetime Emmy Awards, and a Golden Globe Award. He was knighted by Queen Elizabeth II in 2003, and appointed a Knight Grand Cross by King Charles III in 2024.\n",
      "An alumnus of the Royal College of Art in London, Scott began his career in television as a designer and director before moving into advertising as a director of commercials. He made his film directorial debut with The Duellists (1977) and gained wider recognition with his next film, Alien (1979). Though his films range widely in setting and period, they showcase memorable imagery of urban environments, spanning 2nd-century Rome in Gladiator (2000), 12th-century Jerusalem in Kingdom of Heaven (2005), medieval England in Robin Hood (2010), ancient Memphis in Exodus: Gods and Kings (2014), contemporary Mogadishu in Black Hawk Down (2001), and the futuristic cityscapes of Blade Runner (1982) and different planets in Alien, Prometheus (2012), The Martian (2015) and Alien: Covenant (2017).\n",
      "Scott has been nominated for three Academy Awards for Directing for Thelma & Louise, Gladiator and Black Hawk Down. Gladiator won the Academy Award for Best Picture, and he received a nomination in the same category for The Martian. In 1995, both Scott and his brother Tony received a British Academy Film Award for Outstanding British Contribution to Cinema. Scott's films Alien, Blade Runner and Thelma & Louise were each selected for preservation in the United States National Film Registry by the Library of Congress for being considered \"culturally, historically, or aesthetically significant\". In a 2004 BBC poll, Scott was ranked 10 on the list of most influential people in British culture. Scott is also known for his work in television, having earned 10 Primetime Emmy Award nominations. He won twice, for Outstanding Television Film for the HBO film The Gathering Storm (2002) and for  Outstanding Documentary or Nonfiction Special for the History Channel's Gettysburg (2011). He was Emmy-nominated for RKO 281 (1999), The Andromeda Strain (2008), and The Pillars of the Earth (2010).\n",
      "\n",
      "\n",
      "\n",
      "Page: Ridley Scott's unrealised projects\n",
      "Summary: The following is a list of unproduced Ridley Scott projects in roughly chronological order. During his long career, English film director Ridley Scott has worked on a number of projects that never progressed beyond the pre-production stage under his direction. Some of these projects fell into development hell or were officially canceled.\n",
      "\n",
      "Page: Ridley Haim Herschell\n",
      "Summary: Ridley Haim Herschell (7 April 1807 – 14 April 1864) was a Polish-born British minister who converted from Judaism to evangelical Christianity. He was a founder of the British Society for the Propagation of the Gospel Among the Jews (1842) and of the Evangelical Alliance (1845),\u001b[0m\u001b[32;1m\u001b[1;3mI have found that Ridley Scott was born on November 30, 1937. Next, I will calculate the square root of the year 1937.\n",
      "\n",
      "Action: Math Calculator  \n",
      "Action Input: \"sqrt(1937)\"  \n",
      "\u001b[0m\u001b[33;1m\u001b[1;3mAnswer: 44.01136216933077\u001b[0m\u001b[32;1m\u001b[1;3mI have found the square root of 1937. \n",
      "\n",
      "Final Answer: 44.01136216933077\u001b[0m\n",
      "\n",
      "\u001b[1m> Finished chain.\u001b[0m\n",
      "{'input': 'What is the first film that Russell Crowe won an Oscar for, and who directed that movie? When was that director born? Take your answer and square root it', 'output': '44.01136216933077'}\n"
     ]
    }
   ],
   "source": [
    "from langchain_openai import ChatOpenAI\n",
    "from langchain.agents import create_react_agent, AgentExecutor\n",
    "from langchain_community.tools import WikipediaQueryRun\n",
    "from langchain_community.utilities import WikipediaAPIWrapper\n",
    "from langchain_core.prompts import PromptTemplate\n",
    "from langchain.chains import LLMMathChain\n",
    "from langchain.tools import BaseTool\n",
    "\n",
    "# Initialize the language model\n",
    "llm = ChatOpenAI(model_name=\"gpt-4o-mini\")\n"
   ]
  },
  {
   "cell_type": "markdown",
   "metadata": {},
   "source": [
    "## Defining wikipedia tool"
   ]
  },
  {
   "cell_type": "code",
   "execution_count": null,
   "metadata": {},
   "outputs": [],
   "source": [
    "\n",
    "# Set up the Wikipedia tool\n",
    "api_wrapper = WikipediaAPIWrapper()\n",
    "wikipedia_tool = WikipediaQueryRun(api_wrapper=api_wrapper)\n"
   ]
  },
  {
   "cell_type": "markdown",
   "metadata": {},
   "source": [
    "## Defining calculator tool"
   ]
  },
  {
   "cell_type": "code",
   "execution_count": null,
   "metadata": {},
   "outputs": [],
   "source": [
    "\n",
    "# Create a proper tool wrapper by extending BaseTool\n",
    "class MathToolWrapper(BaseTool):\n",
    "    name: str = \"Math Calculator\"\n",
    "    description: str = \"A tool to perform mathematical calculations.\"\n",
    "    _math_chain: LLMMathChain  # Private attribute\n",
    "\n",
    "    def __init__(self, llm):\n",
    "        super().__init__()\n",
    "        self._math_chain = LLMMathChain(llm=llm)\n",
    "\n",
    "    def _run(self, query: str):\n",
    "        return self._math_chain.run(query)\n",
    "\n",
    "    async def _arun(self, query: str):\n",
    "        raise NotImplementedError(\"Async mode is not supported for this tool.\")\n",
    "\n",
    "# Initialize the math tool with the wrapper\n",
    "math_tool = MathToolWrapper(llm=llm)\n"
   ]
  },
  {
   "cell_type": "markdown",
   "metadata": {},
   "source": [
    "## Defining the agent"
   ]
  },
  {
   "cell_type": "code",
   "execution_count": null,
   "metadata": {},
   "outputs": [],
   "source": [
    "\n",
    "tools = [wikipedia_tool, math_tool]\n",
    "\n",
    "# Define the prompt template\n",
    "prompt_template = PromptTemplate.from_template(\n",
    "    '''Answer the following questions as best you can.\n",
    "    You have access to the following tools:\n",
    "    {tools}\n",
    "    Use the following format:\n",
    "    Question: the input question you must answer\n",
    "    Thought: you should always think about what to do\n",
    "    Action: the action to take, should be one of [{tool_names}]\n",
    "    Action Input: the input to the action\n",
    "    Observation: the result of the action\n",
    "    ... (this Thought/Action/Action Input/Observation can repeat N times)\n",
    "    Thought: I now know the final answer\n",
    "    Final Answer: the final answer to the original input question\n",
    "    Begin!\n",
    "    Question: {input}\n",
    "    Thought:{agent_scratchpad}'''\n",
    ")\n",
    "\n",
    "# Create the ReAct agent\n",
    "agent = create_react_agent(\n",
    "    llm=llm,\n",
    "    tools=tools,\n",
    "    prompt=prompt_template\n",
    ")\n",
    "\n",
    "# Set up the agent executor\n",
    "agent_executor = AgentExecutor(agent=agent, tools=tools, verbose=True)\n"
   ]
  },
  {
   "cell_type": "markdown",
   "metadata": {},
   "source": [
    "## Asking it questions"
   ]
  },
  {
   "cell_type": "code",
   "execution_count": null,
   "metadata": {},
   "outputs": [],
   "source": [
    "\n",
    "# Execute the agent with a specific query\n",
    "# query = \"How old is the president of the united states? Divide your answer by 3 and add 7.5\"\n",
    "query =\"What is the first film that Russell Crowe won an Oscar for, and who directed that movie? When was that director born? Take your answer and square root it\"\n",
    "response = agent_executor.invoke({\"input\": query})\n",
    "print(response)"
   ]
  }
 ],
 "metadata": {
  "kernelspec": {
   "display_name": "langchain_react",
   "language": "python",
   "name": "python3"
  },
  "language_info": {
   "codemirror_mode": {
    "name": "ipython",
    "version": 3
   },
   "file_extension": ".py",
   "mimetype": "text/x-python",
   "name": "python",
   "nbconvert_exporter": "python",
   "pygments_lexer": "ipython3",
   "version": "3.12.7"
  }
 },
 "nbformat": 4,
 "nbformat_minor": 2
}
