{
 "cells": [
  {
   "cell_type": "markdown",
   "metadata": {},
   "source": [
    "# ReAct agent with Wikipedia and calculator tool access\n",
    "\n",
    "Trying to learn to make basic agents that can use tools. I found a YouTube video from June 2023 that used ReAct with Langchain to look stuff up with Wikipedia [(link)](https://www.youtube.com/watch?v=Eug2clsLtFs). However, the code used there doesn't work any more (all been deprecated) so I had to do most of this from scratch. I added in a calculator tool as well (which was a bit messy as I had to define a wrapper for the class so it would have a description attribute). Seems to work reasonably well now"
   ]
  },
  {
   "cell_type": "markdown",
   "metadata": {},
   "source": [
    "## Importing libraries and setting up llm"
   ]
  },
  {
   "cell_type": "code",
   "execution_count": 6,
   "metadata": {},
   "outputs": [],
   "source": [
    "from langchain_openai import ChatOpenAI\n",
    "from langchain.agents import create_react_agent, AgentExecutor\n",
    "from langchain_community.tools import WikipediaQueryRun\n",
    "from langchain_community.utilities import WikipediaAPIWrapper\n",
    "from langchain_core.prompts import PromptTemplate\n",
    "from langchain.chains import LLMMathChain\n",
    "from langchain.tools import BaseTool\n"
   ]
  },
  {
   "cell_type": "markdown",
   "metadata": {},
   "source": [
    "## Set up logging with LangSmith"
   ]
  },
  {
   "cell_type": "code",
   "execution_count": 27,
   "metadata": {},
   "outputs": [],
   "source": [
    "# LANGCHAIN_TRACING_V2=\"true\"\n",
    "# LANGCHAIN_ENDPOINT=\"https://api.smith.langchain.com\"\n",
    "# LANGCHAIN_API_KEY=\"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\"\n",
    "# LANGCHAIN_PROJECT=\"langchain_react_wikipedia\"\n",
    "\n",
    "import os\n",
    "\n",
    "os.environ[\"LANGCHAIN_ENDPOINT\"]=\"https://api.smith.langchain.com\"\n",
    "os.environ[\"LANGCHAIN_API_KEY\"] = \"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\"\n",
    "os.environ[\"LANGCHAIN_TRACING_V2\"] = \"true\"\n",
    "os.environ[\"LANGCHAIN_PROJECT\"] = \"langchain_react_wikipedia\""
   ]
  },
  {
   "cell_type": "code",
   "execution_count": 28,
   "metadata": {},
   "outputs": [
    {
     "data": {
      "text/plain": [
       "False"
      ]
     },
     "execution_count": 28,
     "metadata": {},
     "output_type": "execute_result"
    }
   ],
   "source": [
    "from langsmith import utils\n",
    "utils.tracing_is_enabled()"
   ]
  },
  {
   "cell_type": "markdown",
   "metadata": {},
   "source": [
    "## Initialise language model"
   ]
  },
  {
   "cell_type": "code",
   "execution_count": 15,
   "metadata": {},
   "outputs": [],
   "source": [
    "\n",
    "# Initialize the language model\n",
    "llm = ChatOpenAI(model_name=\"gpt-4o-mini\", temperature=0)"
   ]
  },
  {
   "cell_type": "markdown",
   "metadata": {},
   "source": [
    "## Defining wikipedia tool"
   ]
  },
  {
   "cell_type": "code",
   "execution_count": 16,
   "metadata": {},
   "outputs": [],
   "source": [
    "\n",
    "# Set up the Wikipedia tool\n",
    "api_wrapper = WikipediaAPIWrapper()\n",
    "wikipedia_tool = WikipediaQueryRun(api_wrapper=api_wrapper)\n"
   ]
  },
  {
   "cell_type": "markdown",
   "metadata": {},
   "source": [
    "## Defining calculator tool"
   ]
  },
  {
   "cell_type": "code",
   "execution_count": 17,
   "metadata": {},
   "outputs": [
    {
     "name": "stderr",
     "output_type": "stream",
     "text": [
      "/Users/nikmitchell/miniconda3/envs/langchain_react/lib/python3.12/site-packages/langchain/chains/llm_math/base.py:175: UserWarning: Directly instantiating an LLMMathChain with an llm is deprecated. Please instantiate with llm_chain argument or using the from_llm class method.\n",
      "  warnings.warn(\n"
     ]
    }
   ],
   "source": [
    "\n",
    "# Create a proper tool wrapper by extending BaseTool\n",
    "class MathToolWrapper(BaseTool):\n",
    "    name: str = \"Math Calculator\"\n",
    "    description: str = \"A tool to perform mathematical calculations.\"\n",
    "    _math_chain: LLMMathChain  # Private attribute\n",
    "\n",
    "    def __init__(self, llm):\n",
    "        super().__init__()\n",
    "        self._math_chain = LLMMathChain(llm=llm)\n",
    "\n",
    "    def _run(self, query: str):\n",
    "        return self._math_chain.run(query)\n",
    "\n",
    "    async def _arun(self, query: str):\n",
    "        raise NotImplementedError(\"Async mode is not supported for this tool.\")\n",
    "\n",
    "# Initialize the math tool with the wrapper\n",
    "math_tool = MathToolWrapper(llm=llm)\n"
   ]
  },
  {
   "cell_type": "markdown",
   "metadata": {},
   "source": [
    "## Defining the agent"
   ]
  },
  {
   "cell_type": "code",
   "execution_count": 18,
   "metadata": {},
   "outputs": [],
   "source": [
    "\n",
    "tools = [wikipedia_tool, math_tool]\n",
    "\n",
    "# Define the prompt template\n",
    "prompt_template = PromptTemplate.from_template(\n",
    "    '''Answer the following questions as best you can.\n",
    "    You have access to the following tools:\n",
    "    {tools}\n",
    "    Use the following format:\n",
    "    Question: the input question you must answer\n",
    "    Thought: you should always think about what to do\n",
    "    Action: the action to take, should be one of [{tool_names}]\n",
    "    Action Input: the input to the action\n",
    "    Observation: the result of the action\n",
    "    ... (this Thought/Action/Action Input/Observation can repeat N times)\n",
    "    Thought: I now know the final answer\n",
    "    Final Answer: the final answer to the original input question\n",
    "    Begin!\n",
    "    Question: {input}\n",
    "    Thought:{agent_scratchpad}'''\n",
    ")\n",
    "\n",
    "# Create the ReAct agent\n",
    "agent = create_react_agent(\n",
    "    llm=llm,\n",
    "    tools=tools,\n",
    "    prompt=prompt_template\n",
    ")\n",
    "\n",
    "# Set up the agent executor\n",
    "agent_executor = AgentExecutor(agent=agent, tools=tools, verbose=True)\n"
   ]
  },
  {
   "cell_type": "markdown",
   "metadata": {},
   "source": [
    "## Asking it questions"
   ]
  },
  {
   "cell_type": "code",
   "execution_count": 19,
   "metadata": {},
   "outputs": [
    {
     "name": "stdout",
     "output_type": "stream",
     "text": [
      "\n",
      "\n",
      "\u001b[1m> Entering new AgentExecutor chain...\u001b[0m\n",
      "\u001b[32;1m\u001b[1;3mTo answer the question, I need to find out which film Russell Crowe won his first Oscar for, who directed that film, and when the director was born. After gathering that information, I will then calculate the square root of the director's birth year.\n",
      "\n",
      "Action: wikipedia  \n",
      "Action Input: \"Russell Crowe first Oscar film\"  \u001b[0m\u001b[36;1m\u001b[1;3mPage: Gladiator (2000 film)\n",
      "Summary: Gladiator is a 2000 historical epic film directed by Ridley Scott and written by David Franzoni, John Logan, and William Nicholson from a story by Franzoni. It stars Russell Crowe, Joaquin Phoenix, Connie Nielsen, Oliver Reed, Derek Jacobi, Djimon Hounsou, and Richard Harris. Crowe portrays the Roman general Maximus Decimus Meridius, who is betrayed when Commodus, the ambitious son of Emperor Marcus Aurelius, murders his father and seizes the throne. Reduced to slavery, Maximus becomes a gladiator and rises through the ranks of the arena, determined to avenge the murders of his family and the emperor.\n",
      "The screenplay, initially written by Franzoni, was inspired by the 1958 Daniel P. Mannix novel Those About to Die. The script was acquired by DreamWorks Pictures, and Scott signed on to direct the film. Principal photography began in January 1999 and wrapped in May of that year. Production was complicated by the script being rewritten multiple times and by the death of Oliver Reed before production was finished.\n",
      "Gladiator was released in the United States on May 5, 2000 by DreamWorks and internationally on May 12, 2000 by Universal Pictures. The film grossed $465.4 million worldwide, becoming the second highest-grossing film of 2000, and won five Academy Awards, including Best Picture and Best Actor for Crowe. A sequel, Gladiator II, was released in November, 2024.\n",
      "\n",
      "Page: Robin Hood (2010 film)\n",
      "Summary: Robin Hood is a 2010 historical action-adventure film based on the Robin Hood legend, directed by Ridley Scott and starring Russell Crowe, Cate Blanchett, William Hurt, Mark Strong, Mark Addy, Oscar Isaac, Danny Huston, Eileen Atkins, and Max von Sydow.\n",
      "Development began on the project in January 2007 with Universal Pictures' purchase of a spec script by Ethan Reiff and Cyrus Voris which would see the film focus on a more prominent and sympathetic Sheriff of Nottingham. Casting Crowe in the title role, Ridley Scott was hired to direct later that same year. Rewrites delayed the film throughout 2008, with Brian Helgeland hired to rewrite the screenplay, which saw a refocus of the story to be about Robin Hood once again, abandoning the Nottingham angle entirely. Filming commenced in March 2009 throughout England and Wales.\n",
      "Robin Hood held its world premiere at the 2010 Cannes Film Festival the same day as its United Kingdom and Ireland releases. It was then released on 14 May 2010 in North America. The film received mixed reviews and grossed $321.7 million worldwide.\n",
      "\n",
      "Page: Body of Lies (film)\n",
      "Summary: Body of Lies is a 2008 American spy action thriller film directed and produced by Ridley Scott, written by William Monahan, and starring Leonardo DiCaprio, Russell Crowe and Golshifteh Farahani in the lead roles. Set in the Middle East, it follows the attempts of the CIA and the GID of Jordan to catch \"al-Saleem\", a terrorist. Frustrated by their target's elusiveness, differences in their approaches strain relations between a CIA operative, his superior, and the head of Jordanian Intelligence. The supporting cast features Mark Strong and Oscar Isaac.\n",
      "The screenplay, based on the 2007 novel of the same name by David Ignatius, examines contemporary tension between Western and Arab societies, and the comparative effectiveness of technological and human counter-intelligence methods. Principal photography for the film began on September 5, 2007 and concluded in December 2007. The film was shot largely on location in the United States and Morocco, after authorities in Dubai refused permission to film there because of the script's political themes.\n",
      "The film was released in the United States on October 10, 2008, by Warner Bros. Pictures. The film received mixed reviews from critics, who praised Scott's direction and visual style, as well as the performances of its two leads, but criticized his formulaic handling of the story and use of conventions from the spy genre, such as surveillance shots from high-alt\u001b[0m\u001b[32;1m\u001b[1;3mI have found that Russell Crowe won his first Oscar for the film \"Gladiator,\" which was directed by Ridley Scott. Now, I need to find out when Ridley Scott was born.\n",
      "\n",
      "Action: wikipedia  \n",
      "Action Input: \"Ridley Scott birth date\"  \u001b[0m\u001b[36;1m\u001b[1;3mPage: Ridley Scott\n",
      "Summary: Sir Ridley Scott  (born 30 November 1937) is an English filmmaker. He is best known for directing films in the science fiction, crime, and historical drama genres. His work is known for its atmospheric and highly concentrated visual style. He ranks among the highest-grossing directors and has received many accolades, including the BAFTA Fellowship for lifetime achievement in 2018, two Primetime Emmy Awards, and a Golden Globe Award. He was knighted by Queen Elizabeth II in 2003, and appointed a Knight Grand Cross by King Charles III in 2024.\n",
      "An alumnus of the Royal College of Art in London, Scott began his career in television as a designer and director before moving into advertising as a director of commercials. He made his film directorial debut with The Duellists (1977) and gained wider recognition with his next film, Alien (1979). Though his films range widely in setting and period, they showcase memorable imagery of urban environments, spanning 2nd-century Rome in Gladiator (2000), 12th-century Jerusalem in Kingdom of Heaven (2005), medieval England in Robin Hood (2010), ancient Memphis in Exodus: Gods and Kings (2014), contemporary Mogadishu in Black Hawk Down (2001), and the futuristic cityscapes of Blade Runner (1982) and different planets in Alien, Prometheus (2012), The Martian (2015) and Alien: Covenant (2017).\n",
      "Scott has been nominated for three Academy Awards for Directing for Thelma & Louise, Gladiator and Black Hawk Down. Gladiator won the Academy Award for Best Picture, and he received a nomination in the same category for The Martian. In 1995, both Scott and his brother Tony received a British Academy Film Award for Outstanding British Contribution to Cinema. Scott's films Alien, Blade Runner and Thelma & Louise were each selected for preservation in the United States National Film Registry by the Library of Congress for being considered \"culturally, historically, or aesthetically significant\". In a 2004 BBC poll, Scott was ranked 10 on the list of most influential people in British culture. Scott is also known for his work in television, having earned 10 Primetime Emmy Award nominations. He won twice, for Outstanding Television Film for the HBO film The Gathering Storm (2002) and for  Outstanding Documentary or Nonfiction Special for the History Channel's Gettysburg (2011). He was Emmy-nominated for RKO 281 (1999), The Andromeda Strain (2008), and The Pillars of the Earth (2010).\n",
      "\n",
      "\n",
      "\n",
      "Page: Gladiator II\n",
      "Summary: Gladiator II is a 2024 epic historical action film directed and produced by Ridley Scott and written by David Scarpa, from a story he wrote with Peter Craig. Serving as a sequel to Gladiator (2000), the film was produced by Scott Free Productions and distributed by Paramount Pictures. It stars Paul Mescal, Pedro Pascal, Joseph Quinn, Fred Hechinger, Lior Raz, Derek Jacobi, Connie Nielsen, and Denzel Washington. Jacobi and Nielsen reprise their roles from the first film, with Mescal replacing Spencer Treat Clark. Mescal portrays Lucius, the son of Maximus and Lucilla, who becomes a gladiator after his home is invaded by the Roman army led by General Marcus Acacius. Lucius seeks revenge against Acacius and fights as a gladiator for Macrinus, a former slave who plans to overthrow the emperors Geta and Caracalla. \n",
      "A sequel to Gladiator was discussed as early as June 2001, with David Franzoni and John Logan set to return as screenwriters. Over the next few years, Scott offered occasional updates, including the possible involvement of the original film's lead actor, Russell Crowe, along with plot ideas about the Roman afterlife and different historical time periods. Development was halted when DreamWorks sold the rights to the property to Paramount in 2006. The film was finally announced in 2018, and Mescal was cast in the lead role in January 2023, with a script by Scarpa. The rest of the cast signed on over the next several months. Filming took place between June 2023 and January \u001b[0m\u001b[32;1m\u001b[1;3mI have found that Ridley Scott was born on November 30, 1937. Now, I need to calculate the square root of the year 1937.\n",
      "\n",
      "Action: Math Calculator  \n",
      "Action Input: \"sqrt(1937)\"  \u001b[0m\u001b[33;1m\u001b[1;3mAnswer: 44.01136216933077\u001b[0m\u001b[32;1m\u001b[1;3mI now know the final answer.  \n",
      "Final Answer: 44.01136216933077\u001b[0m\n",
      "\n",
      "\u001b[1m> Finished chain.\u001b[0m\n",
      "{'input': 'What is the first film that Russell Crowe won an Oscar for, and who directed that movie? When was that director born? Take your answer and square root it', 'output': '44.01136216933077'}\n"
     ]
    }
   ],
   "source": [
    "\n",
    "# Execute the agent with a specific query\n",
    "# query = \"How old is the president of the united states? Divide your answer by 3 and add 7.5\"\n",
    "query =\"What is the first film that Russell Crowe won an Oscar for, and who directed that movie? When was that director born? Take your answer and square root it\"\n",
    "response = agent_executor.invoke({\"input\": query})\n",
    "print(response)"
   ]
  },
  {
   "cell_type": "code",
   "execution_count": null,
   "metadata": {},
   "outputs": [],
   "source": []
  }
 ],
 "metadata": {
  "kernelspec": {
   "display_name": "langchain_react",
   "language": "python",
   "name": "python3"
  },
  "language_info": {
   "codemirror_mode": {
    "name": "ipython",
    "version": 3
   },
   "file_extension": ".py",
   "mimetype": "text/x-python",
   "name": "python",
   "nbconvert_exporter": "python",
   "pygments_lexer": "ipython3",
   "version": "3.12.7"
  }
 },
 "nbformat": 4,
 "nbformat_minor": 2
}
